{
 "cells": [
  {
   "cell_type": "code",
   "execution_count": 7,
   "id": "14193bdd",
   "metadata": {},
   "outputs": [],
   "source": [
    "import requests\n",
    "import json\n",
    "import time\n",
    "import logging"
   ]
  },
  {
   "cell_type": "code",
   "execution_count": 9,
   "id": "fe2dca4b",
   "metadata": {},
   "outputs": [
    {
     "name": "stdout",
     "output_type": "stream",
     "text": [
      "200\n",
      "{\n",
      "  \"Result\": null,\n",
      "  \"Success\": false,\n",
      "  \"ErrorMessage\": \"Cannot find tenant information.\",\n",
      "  \"ValidationErrorMessage\": \"\",\n",
      "  \"ConcurrencyErrorMessage\": \"\",\n",
      "  \"StatusCode\": 200,\n",
      "  \"BrokenRules\": []\n",
      "}\n"
     ]
    }
   ],
   "source": [
    "import requests, json\n",
    "\n",
    "url = \"https://albanyny-energovpub.tylerhost.net/apps/selfservice/api/energov/codecases/568bb576-c44d-46f2-807d-5166d1e0e5b3\"\n",
    "\n",
    "resp = requests.get(url)\n",
    "print(resp.status_code)\n",
    "\n",
    "try:\n",
    "    data = resp.json()\n",
    "    print(json.dumps(data, indent=2))\n",
    "except Exception:\n",
    "    print(resp.text[:1000])\n"
   ]
  },
  {
   "cell_type": "code",
   "execution_count": 1,
   "id": "03fc43c1",
   "metadata": {},
   "outputs": [
    {
     "name": "stdout",
     "output_type": "stream",
     "text": [
      "405\n",
      "{\n",
      "  \"Message\": \"The requested resource does not support http method 'GET'.\"\n",
      "}\n"
     ]
    }
   ],
   "source": [
    "import requests, json\n",
    "\n",
    "url = \"https://albanyny-energovpub.tylerhost.net/apps/selfservice/api/energov/codecases/568bb576-c44d-46f2-807d-5166d1e0e5b3\"\n",
    "\n",
    "headers = {\n",
    "    \"Accept\": \"application/json, text/plain, */*\",\n",
    "    \"Referer\": \"https://albanyny-energovpub.tylerhost.net/Apps/SelfService\",\n",
    "    \"User-Agent\": \"Mozilla/5.0\",\n",
    "    \"tenantId\": \"1\",\n",
    "    \"tenantName\": \"AlbanyNY\",\n",
    "    \"Tyler-TenantUrl\": \"AlbanyNY\",\n",
    "    \"Tyler-Tenant-Culture\": \"en-US\"\n",
    "}\n",
    "\n",
    "resp = requests.get(url, headers=headers)\n",
    "print(resp.status_code)\n",
    "\n",
    "try:\n",
    "    data = resp.json()\n",
    "    print(json.dumps(data, indent=2))\n",
    "except Exception:\n",
    "    print(resp.text[:1000])\n"
   ]
  },
  {
   "cell_type": "code",
   "execution_count": 16,
   "id": "01693b38",
   "metadata": {},
   "outputs": [
    {
     "data": {
      "text/plain": [
       "{'case_number': None,\n",
       " 'case_type': None,\n",
       " 'status': None,\n",
       " 'description': None,\n",
       " 'assigned_to': None,\n",
       " 'created_date': None}"
      ]
     },
     "execution_count": 16,
     "metadata": {},
     "output_type": "execute_result"
    }
   ],
   "source": [
    "case"
   ]
  }
 ],
 "metadata": {
  "kernelspec": {
   "display_name": "Python 3 (ipykernel)",
   "language": "python",
   "name": "python3"
  },
  "language_info": {
   "codemirror_mode": {
    "name": "ipython",
    "version": 3
   },
   "file_extension": ".py",
   "mimetype": "text/x-python",
   "name": "python",
   "nbconvert_exporter": "python",
   "pygments_lexer": "ipython3",
   "version": "3.9.13"
  }
 },
 "nbformat": 4,
 "nbformat_minor": 5
}
